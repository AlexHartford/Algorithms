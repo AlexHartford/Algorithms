{
 "cells": [
  {
   "cell_type": "markdown",
   "metadata": {},
   "source": [
    "### Dynamic Programming\n",
    "\n",
    "Jay Urbain, PhD\n",
    "\n",
    "Rod cutting problem\n"
   ]
  },
  {
   "cell_type": "code",
   "execution_count": 28,
   "metadata": {
    "collapsed": false
   },
   "outputs": [],
   "source": [
    "import sys\n",
    "prices = [0,1,5,8,9,10,17,17,20,24,30]\n",
    "def cut_rod(p, n):\n",
    "    print 'cut_rod', 'n', n\n",
    "    if n==0:\n",
    "        return 0\n",
    "    q = -sys.maxsize\n",
    "    #print 'q', q\n",
    "    for i in range(1,n+1):\n",
    "        print 'p[', i, ']', p[i]\n",
    "        q = max(q, p[i] + cut_rod(p, n-i))\n",
    "        print 'q =', q\n",
    "    return q\n",
    "     \n"
   ]
  },
  {
   "cell_type": "code",
   "execution_count": 29,
   "metadata": {
    "collapsed": false
   },
   "outputs": [
    {
     "name": "stdout",
     "output_type": "stream",
     "text": [
      "cut_rod n 4\n",
      "p[ 1 ] 1\n",
      "cut_rod n 3\n",
      "p[ 1 ] 1\n",
      "cut_rod n 2\n",
      "p[ 1 ] 1\n",
      "cut_rod n 1\n",
      "p[ 1 ] 1\n",
      "cut_rod n 0\n",
      "q = 1\n",
      "q = 2\n",
      "p[ 2 ] 5\n",
      "cut_rod n 0\n",
      "q = 5\n",
      "q = 6\n",
      "p[ 2 ] 5\n",
      "cut_rod n 1\n",
      "p[ 1 ] 1\n",
      "cut_rod n 0\n",
      "q = 1\n",
      "q = 6\n",
      "p[ 3 ] 8\n",
      "cut_rod n 0\n",
      "q = 8\n",
      "q = 9\n",
      "p[ 2 ] 5\n",
      "cut_rod n 2\n",
      "p[ 1 ] 1\n",
      "cut_rod n 1\n",
      "p[ 1 ] 1\n",
      "cut_rod n 0\n",
      "q = 1\n",
      "q = 2\n",
      "p[ 2 ] 5\n",
      "cut_rod n 0\n",
      "q = 5\n",
      "q = 10\n",
      "p[ 3 ] 8\n",
      "cut_rod n 1\n",
      "p[ 1 ] 1\n",
      "cut_rod n 0\n",
      "q = 1\n",
      "q = 10\n",
      "p[ 4 ] 9\n",
      "cut_rod n 0\n",
      "q = 10\n"
     ]
    },
    {
     "data": {
      "text/plain": [
       "10"
      ]
     },
     "execution_count": 29,
     "metadata": {},
     "output_type": "execute_result"
    }
   ],
   "source": [
    "cut_rod(prices, 4)"
   ]
  },
  {
   "cell_type": "markdown",
   "metadata": {},
   "source": [
    "### Memoized Cut Rod"
   ]
  },
  {
   "cell_type": "code",
   "execution_count": 34,
   "metadata": {
    "collapsed": true
   },
   "outputs": [],
   "source": [
    "def memoized_cut_rod(p, n):\n",
    "    r = []\n",
    "    for i in range(n+1):\n",
    "        r.append(-sys.maxsize)\n",
    "    print 'memoized_cut_rod', 'n', n\n",
    "    return memoized_cut_rod_aux(p, n, r)\n",
    "    \n",
    "def memoized_cut_rod_aux(p, n, r):\n",
    "    print 'memoized_cut_rod_aux', 'n=', n, 'r = ', r\n",
    "    if r[n] >= 0:\n",
    "        return r[n]\n",
    "    if n == 0:\n",
    "        q = 0\n",
    "    else:\n",
    "        q = -sys.maxsize\n",
    "        for i in range(1, n+1):\n",
    "            print 'p[', i, ']', p[i]\n",
    "            q = max(q, p[i] + memoized_cut_rod_aux(p, n-i, r))\n",
    "            print 'q =', q\n",
    "    r[n]=q\n",
    "    return q\n"
   ]
  },
  {
   "cell_type": "code",
   "execution_count": 35,
   "metadata": {
    "collapsed": false
   },
   "outputs": [
    {
     "name": "stdout",
     "output_type": "stream",
     "text": [
      "memoized_cut_rod: memoized_cut_rod n 4\n",
      "memoized_cut_rod_aux n= 4 r =  [-9223372036854775807, -9223372036854775807, -9223372036854775807, -9223372036854775807, -9223372036854775807]\n",
      "p[ 1 ] 1\n",
      "memoized_cut_rod_aux n= 3 r =  [-9223372036854775807, -9223372036854775807, -9223372036854775807, -9223372036854775807, -9223372036854775807]\n",
      "p[ 1 ] 1\n",
      "memoized_cut_rod_aux n= 2 r =  [-9223372036854775807, -9223372036854775807, -9223372036854775807, -9223372036854775807, -9223372036854775807]\n",
      "p[ 1 ] 1\n",
      "memoized_cut_rod_aux n= 1 r =  [-9223372036854775807, -9223372036854775807, -9223372036854775807, -9223372036854775807, -9223372036854775807]\n",
      "p[ 1 ] 1\n",
      "memoized_cut_rod_aux n= 0 r =  [-9223372036854775807, -9223372036854775807, -9223372036854775807, -9223372036854775807, -9223372036854775807]\n",
      "q = 1\n",
      "q = 2\n",
      "p[ 2 ] 5\n",
      "memoized_cut_rod_aux n= 0 r =  [0, 1, -9223372036854775807, -9223372036854775807, -9223372036854775807]\n",
      "q = 5\n",
      "q = 6\n",
      "p[ 2 ] 5\n",
      "memoized_cut_rod_aux n= 1 r =  [0, 1, 5, -9223372036854775807, -9223372036854775807]\n",
      "q = 6\n",
      "p[ 3 ] 8\n",
      "memoized_cut_rod_aux n= 0 r =  [0, 1, 5, -9223372036854775807, -9223372036854775807]\n",
      "q = 8\n",
      "q = 9\n",
      "p[ 2 ] 5\n",
      "memoized_cut_rod_aux n= 2 r =  [0, 1, 5, 8, -9223372036854775807]\n",
      "q = 10\n",
      "p[ 3 ] 8\n",
      "memoized_cut_rod_aux n= 1 r =  [0, 1, 5, 8, -9223372036854775807]\n",
      "q = 10\n",
      "p[ 4 ] 9\n",
      "memoized_cut_rod_aux n= 0 r =  [0, 1, 5, 8, -9223372036854775807]\n",
      "q = 10\n",
      "10\n"
     ]
    }
   ],
   "source": [
    "print 'memoized_cut_rod:', memoized_cut_rod(prices, 4)"
   ]
  },
  {
   "cell_type": "code",
   "execution_count": 36,
   "metadata": {
    "collapsed": true
   },
   "outputs": [],
   "source": [
    "### Bottom up cut rod\n",
    "\n",
    "Eliminate recursive calls with bottom-up solution"
   ]
  },
  {
   "cell_type": "code",
   "execution_count": 37,
   "metadata": {
    "collapsed": true
   },
   "outputs": [],
   "source": [
    "def bottom_up_cut_rod(p, n):\n",
    "    r = []\n",
    "    for i in range(n+1):\n",
    "        r.append(0)\n",
    "    print 'bottom_up_cut_rod', 'n', n\n",
    "    for j in range(1,n+1):\n",
    "        q = -sys.maxsize\n",
    "        \n",
    "        for i in range(1,j+1):\n",
    "            print 'p[', i, ']', p[i]\n",
    "            q = max(q, p[i] + r[j-i])\n",
    "        r[j]=q\n",
    "        print 'q =', q\n",
    "    return r[n]\n",
    "    \n"
   ]
  },
  {
   "cell_type": "code",
   "execution_count": 38,
   "metadata": {
    "collapsed": false
   },
   "outputs": [
    {
     "name": "stdout",
     "output_type": "stream",
     "text": [
      "bottom_up_cut_rod: bottom_up_cut_rod n 4\n",
      "p[ 1 ] 1\n",
      "q = 1\n",
      "p[ 1 ] 1\n",
      "p[ 2 ] 5\n",
      "q = 5\n",
      "p[ 1 ] 1\n",
      "p[ 2 ] 5\n",
      "p[ 3 ] 8\n",
      "q = 8\n",
      "p[ 1 ] 1\n",
      "p[ 2 ] 5\n",
      "p[ 3 ] 8\n",
      "p[ 4 ] 9\n",
      "q = 10\n",
      "10\n"
     ]
    }
   ],
   "source": [
    "print 'bottom_up_cut_rod:', bottom_up_cut_rod(prices, 4) "
   ]
  },
  {
   "cell_type": "markdown",
   "metadata": {},
   "source": [
    "### Extended bottom up cut rod\n",
    "\n",
    "Print solution"
   ]
  },
  {
   "cell_type": "code",
   "execution_count": 40,
   "metadata": {
    "collapsed": true
   },
   "outputs": [],
   "source": [
    "def extended_bottom_up_cut_rod(p, n):\n",
    "    r = []\n",
    "    for i in range(n+1):\n",
    "        r.append(0)\n",
    "    s = []\n",
    "    for i in range(n+1):\n",
    "        s.append(0)\n",
    "    print 'extended_bottom_up_cut_rod', 'n', n\n",
    "    for j in range(1,n+1):\n",
    "        q = -sys.maxsize\n",
    "        \n",
    "        for i in range(1,j+1):\n",
    "            if q < p[i] + r[j-i]:\n",
    "                #print 'p[', i, ']', p[i]\n",
    "                q = p[i] + r[j-i]\n",
    "                s[j]=i\n",
    "        r[j]=q\n",
    "        print 'q =', q\n",
    "    return r,s\n",
    "\n",
    "def print_extended_bottom_up_cut_rod(p, n):\n",
    "    r,s = extended_bottom_up_cut_rod(p, n)\n",
    "    while n>0:\n",
    "        print s[n]\n",
    "        n = n - s[n]\n",
    "        "
   ]
  },
  {
   "cell_type": "code",
   "execution_count": 41,
   "metadata": {
    "collapsed": false
   },
   "outputs": [
    {
     "name": "stdout",
     "output_type": "stream",
     "text": [
      "print_extended_bottom_up_cut_rod: extended_bottom_up_cut_rod n 4\n",
      "q = 1\n",
      "q = 5\n",
      "q = 8\n",
      "q = 10\n",
      "2\n",
      "2\n",
      "None\n"
     ]
    }
   ],
   "source": [
    "print 'print_extended_bottom_up_cut_rod:', print_extended_bottom_up_cut_rod(prices, 4) "
   ]
  },
  {
   "cell_type": "code",
   "execution_count": null,
   "metadata": {
    "collapsed": true
   },
   "outputs": [],
   "source": []
  }
 ],
 "metadata": {
  "kernelspec": {
   "display_name": "Python 2",
   "language": "python",
   "name": "python2"
  },
  "language_info": {
   "codemirror_mode": {
    "name": "ipython",
    "version": 2
   },
   "file_extension": ".py",
   "mimetype": "text/x-python",
   "name": "python",
   "nbconvert_exporter": "python",
   "pygments_lexer": "ipython2",
   "version": "2.7.11"
  }
 },
 "nbformat": 4,
 "nbformat_minor": 0
}
