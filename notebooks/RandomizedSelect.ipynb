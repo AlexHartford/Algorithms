{
 "cells": [
  {
   "cell_type": "markdown",
   "metadata": {},
   "source": [
    "### Randomized Select\n",
    "\n",
    "Jay Urbain, PhD\n",
    "\n",
    "Compute the $i^{th}$ order statistic, zero-based."
   ]
  },
  {
   "cell_type": "code",
   "execution_count": 60,
   "metadata": {
    "collapsed": true
   },
   "outputs": [],
   "source": [
    "# i is the i'th order statistic.\n",
    "\n",
    "def rselect(seq,length,i):\n",
    "    \n",
    "    if len(seq)==i:\n",
    "        return seq\n",
    "    lo,pi,hi,loc_pi = random_partition(seq)\n",
    "    print 'lo:', lo, 'pi:', pi, 'hi:', hi, 'loc_pi:', loc_pi\n",
    "    if loc_pi==i:\n",
    "        return pi \n",
    "    if loc_pi>i:\n",
    "        return rselect(lo,loc_pi,i) \n",
    "    elif loc_pi<i:\n",
    "        return rselect(hi,length-(loc_pi+1),i-(loc_pi+1))\n",
    "\n",
    "from random import choice  \n",
    "def random_partition(seq):\n",
    "    pi =choice(seq)\n",
    "    lo=[x for x in seq if x<=pi]\n",
    "    hi=[x for x in seq if x>pi]\n",
    "    return lo,pi,hi,len(lo)-1"
   ]
  },
  {
   "cell_type": "code",
   "execution_count": 61,
   "metadata": {
    "collapsed": false
   },
   "outputs": [
    {
     "name": "stdout",
     "output_type": "stream",
     "text": [
      "x: [[1], [8], [0], [4], [5], [2], [6], [7], [3], [9]]\n",
      "lo: [[1], [0], [4], [2], [3]] pi: [4] hi: [[8], [5], [6], [7], [9]] loc_pi: 4\n",
      "lo: [[5]] pi: [5] hi: [[8], [6], [7], [9]] loc_pi: 0\n",
      "lo: [[8], [6], [7], [9]] pi: [9] hi: [] loc_pi: 3\n",
      "lo: [[6]] pi: [6] hi: [[8], [7], [9]] loc_pi: 0\n",
      "[6]\n"
     ]
    }
   ],
   "source": [
    "x = [[i] for i in range(10)]\n",
    "\n",
    "#x = [2,1,5,6,8,9]\n",
    "from random import shuffle\n",
    "shuffle(x)\n",
    "print 'x:', x\n",
    "\n",
    "print rselect(x, len(x), 6)"
   ]
  },
  {
   "cell_type": "code",
   "execution_count": null,
   "metadata": {
    "collapsed": true
   },
   "outputs": [],
   "source": []
  }
 ],
 "metadata": {
  "kernelspec": {
   "display_name": "Python 2",
   "language": "python",
   "name": "python2"
  },
  "language_info": {
   "codemirror_mode": {
    "name": "ipython",
    "version": 2
   },
   "file_extension": ".py",
   "mimetype": "text/x-python",
   "name": "python",
   "nbconvert_exporter": "python",
   "pygments_lexer": "ipython2",
   "version": "2.7.11"
  }
 },
 "nbformat": 4,
 "nbformat_minor": 0
}
