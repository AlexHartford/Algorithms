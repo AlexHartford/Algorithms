{
 "cells": [
  {
   "cell_type": "markdown",
   "metadata": {},
   "source": [
    "### Counting Sort\n",
    "\n",
    "Jay Urbain, PhD"
   ]
  },
  {
   "cell_type": "markdown",
   "metadata": {},
   "source": [
    "**Counting sort** is an algorithm for sorting a collection of objects according to keys that are small integers. It operates by:\n",
    "\n",
    "- initializing the count array: $O(k)$\n",
    "\n",
    "- counting the number of objects that have each distinct key value: $O(n)$\n",
    "\n",
    "- calculating the starting index of each key/value: $O(k)$\n",
    "\n",
    "- Copying the input array A, to the output array B using the array of starting indices. $O(n)$\n",
    "\n",
    "Therefore the time complexity is $\\Theta(n)$\n",
    "\n",
    "Its running time is linear in the number of items and the difference between the maximum and minimum key values, so it is only suitable for direct use in situations where the variation in keys is not significantly greater than the number of items. However, it is often used as a subroutine in another sorting algorithm, radix sort, that can handle larger keys more efficiently.\n",
    "\n",
    "Because counting sort uses key values as indexes into an array, it is not a comparison sort, and the Ω(n log n) lower bound for comparison sorting does not apply.\n",
    "\n",
    "Bucket sort may be used for many of the same tasks as counting sort, with a similar time analysis, however, compared to counting sort, bucket sort requires linked lists, dynamic arrays, or a large amount of preallocated memory to hold the sets of items within each bucket, whereas counting sort instead stores a single number (the count of items) per bucket."
   ]
  },
  {
   "cell_type": "code",
   "execution_count": 59,
   "metadata": {
    "collapsed": false
   },
   "outputs": [
    {
     "name": "stdout",
     "output_type": "stream",
     "text": [
      "Create histogram (count array):\n",
      "i= 0 , A[ 0 ]= 1 ,  [0, 1, 0, 0, 0, 0, 0, 0]\n",
      "i= 1 , A[ 1 ]= 4 ,  [0, 1, 0, 0, 1, 0, 0, 0]\n",
      "i= 2 , A[ 2 ]= 7 ,  [0, 1, 0, 0, 1, 0, 0, 1]\n",
      "i= 3 , A[ 3 ]= 2 ,  [0, 1, 1, 0, 1, 0, 0, 1]\n",
      "i= 4 , A[ 4 ]= 1 ,  [0, 2, 1, 0, 1, 0, 0, 1]\n",
      "i= 5 , A[ 5 ]= 3 ,  [0, 2, 1, 1, 1, 0, 0, 1]\n",
      "i= 6 , A[ 6 ]= 2 ,  [0, 2, 2, 1, 1, 0, 0, 1]\n",
      "i= 7 , A[ 7 ]= 1 ,  [0, 3, 2, 1, 1, 0, 0, 1]\n",
      "i= 8 , A[ 8 ]= 4 ,  [0, 3, 2, 1, 2, 0, 0, 1]\n",
      "i= 9 , A[ 9 ]= 2 ,  [0, 3, 3, 1, 2, 0, 0, 1]\n",
      "i= 10 , A[ 10 ]= 3 ,  [0, 3, 3, 2, 2, 0, 0, 1]\n",
      "i= 11 , A[ 11 ]= 2 ,  [0, 3, 4, 2, 2, 0, 0, 1]\n",
      "i= 12 , A[ 12 ]= 0 ,  [1, 3, 4, 2, 2, 0, 0, 1]\n",
      "[1, 3, 4, 2, 2, 0, 0, 1]\n",
      "Calculate the starting index for each key:\n",
      "[0, 1, 4, 8, 10, 12, 12, 12]\n",
      "Copy to output array, preserving order of inputs with equal keys:\n",
      "[0, 1, 1, 1, 2, 2, 2, 2, 3, 3, 4, 4, 7]\n"
     ]
    }
   ],
   "source": [
    "def counting_sort(A, B):\n",
    "    \n",
    "    print 'Create histogram (count array):'\n",
    "    k = max(A) + 1\n",
    "    count = [0] * k\n",
    "    for i in range(0, len(A)):\n",
    "        count[ A[i] ] += 1\n",
    "        print 'i=', i, ', A[',i,']=', A[i], ', ', count\n",
    "    print count                   # print histogram\n",
    "\n",
    "    print 'Calculate the starting index for each key:'\n",
    "    total = 0\n",
    "    for i in range(k):   # i = 0, 1, ... k-1\n",
    "        oldCount = count[i]\n",
    "        count[i] = total\n",
    "        total += oldCount\n",
    "    print count                   # print starting indices\n",
    "\n",
    "    print 'Copy to output array, preserving order of inputs with equal keys:'\n",
    "    for x in A:\n",
    "        B[count[x]] = x\n",
    "        count[x] += 1\n",
    "    print B\n",
    "\n",
    "A = [1, 4, 7, 2, 1, 3, 2, 1, 4, 2, 3, 2, 0]\n",
    "B = [0]*len(A)\n",
    "counting_sort(A, B)"
   ]
  },
  {
   "cell_type": "code",
   "execution_count": null,
   "metadata": {
    "collapsed": true
   },
   "outputs": [],
   "source": []
  }
 ],
 "metadata": {
  "kernelspec": {
   "display_name": "Python 2",
   "language": "python",
   "name": "python2"
  },
  "language_info": {
   "codemirror_mode": {
    "name": "ipython",
    "version": 2
   },
   "file_extension": ".py",
   "mimetype": "text/x-python",
   "name": "python",
   "nbconvert_exporter": "python",
   "pygments_lexer": "ipython2",
   "version": "2.7.11"
  }
 },
 "nbformat": 4,
 "nbformat_minor": 0
}
