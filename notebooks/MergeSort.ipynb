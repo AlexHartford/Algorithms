{
 "cells": [
  {
   "cell_type": "markdown",
   "metadata": {},
   "source": [
    "### Merge Sort"
   ]
  },
  {
   "cell_type": "code",
   "execution_count": 1,
   "metadata": {
    "collapsed": false
   },
   "outputs": [
    {
     "name": "stdout",
     "output_type": "stream",
     "text": [
      "A [1, 3, 5, 7, 4, 6, 8, 9, 10]\n",
      "merge L= [1, 3, 5, 7]  R= [4, 6, 8, 9, 10]\n",
      "A [1, 3, 4, 5, 6, 7, 8, 9, 10]\n",
      "A [1, 3, 5, 7, 4, 6, 8, 9]\n",
      "merge L= [1, 3, 5, 7]  R= [4, 6, 8, 9]\n",
      "A [1, 3, 4, 5, 6, 7, 8, 9]\n",
      "mergeSort A= [4, 3, 2, 1] p= 0 r= 4\n",
      "mergeSort A= [4, 3] p= 0 r= 2\n",
      "mergeSort A= [4] p= 0 r= 1\n",
      "mergeSort A= [3] p= 1 r= 2\n",
      "merge L= [4]  R= [3]\n",
      "mergeSort A= [2, 1] p= 2 r= 4\n",
      "mergeSort A= [2] p= 2 r= 3\n",
      "mergeSort A= [1] p= 3 r= 4\n",
      "merge L= [2]  R= [1]\n",
      "merge L= [3, 4]  R= [1, 2]\n",
      "[1, 2, 3, 4]\n"
     ]
    }
   ],
   "source": [
    "\"\"\"\n",
    "Created on Sun Mar 13 09:05:35 2016\n",
    "\n",
    "@author: jayurbain\n",
    "\"\"\"\n",
    "\n",
    "import sys\n",
    "\n",
    "def merge(A, p, q, r):\n",
    "    \n",
    "    # allocate left and right half arrays, append sentinel value\n",
    "    L = A[p:q]   # A[p..q]\n",
    "    L.append(sys.maxint) \n",
    "    R = A[q:r]   # A[q+1..r]\n",
    "    R.append(sys.maxint)\n",
    "        \n",
    "    # merge L & R onto A\n",
    "    print 'merge L=', L[:-1], ' R=', R[:-1]\n",
    "    i=0\n",
    "    j=0\n",
    "    for k in range(p, r):\n",
    "        #print 'i=%d j=%d k=%d' % (i, j, k)\n",
    "        if L[i] < R[j]:\n",
    "            A[k]=L[i]\n",
    "            i=i+1\n",
    "        else:\n",
    "            A[k]=R[j]\n",
    "            j=j+1\n",
    "\n",
    "def mergeSort(A, p, r):\n",
    "    print 'mergeSort A=', A[p:r], 'p=', p, 'r=', r\n",
    "    if p<r-1:\n",
    "        q = (p+r)//2\n",
    "        mergeSort(A, p, q)\n",
    "        mergeSort(A, q, r)\n",
    "        merge(A, p, q, r)\n",
    "            \n",
    "# test odd\n",
    "A = [1, 3, 5, 7, 4, 6, 8, 9, 10]\n",
    "print 'A', A\n",
    "merge(A, 0, len(A)//2, len(A))\n",
    "print 'A', A\n",
    "\n",
    "# test even\n",
    "A = [1, 3, 5, 7, 4, 6, 8, 9]\n",
    "print 'A', A\n",
    "merge(A, 0, len(A)//2, len(A))\n",
    "print 'A', A\n",
    "\n",
    "#A = [54,26,93,17,77,31,44,55,20]\n",
    "A= [4,3,2,1]\n",
    "mergeSort(A, 0, len(A))\n",
    "print(A)\n"
   ]
  },
  {
   "cell_type": "code",
   "execution_count": null,
   "metadata": {
    "collapsed": true
   },
   "outputs": [],
   "source": []
  }
 ],
 "metadata": {
  "kernelspec": {
   "display_name": "Python 2",
   "language": "python",
   "name": "python2"
  },
  "language_info": {
   "codemirror_mode": {
    "name": "ipython",
    "version": 2
   },
   "file_extension": ".py",
   "mimetype": "text/x-python",
   "name": "python",
   "nbconvert_exporter": "python",
   "pygments_lexer": "ipython2",
   "version": "2.7.11"
  }
 },
 "nbformat": 4,
 "nbformat_minor": 0
}
