{
 "cells": [
  {
   "cell_type": "markdown",
   "metadata": {},
   "source": [
    "### Strategy Design Pattern\n",
    "\n",
    "Jay Urbain, PhD\n",
    "\n",
    "3/8/2018"
   ]
  },
  {
   "cell_type": "code",
   "execution_count": 2,
   "metadata": {
    "collapsed": false
   },
   "outputs": [
    {
     "name": "stdout",
     "output_type": "stream",
     "text": [
      "Original execution\n",
      "Strategy 1\n",
      "Strategy 2\n"
     ]
    }
   ],
   "source": [
    "class StrategyExample:\n",
    "    def __init__(self, func=None):\n",
    "        if func:\n",
    "             self.execute = func\n",
    "\n",
    "    def execute(self):\n",
    "        print(\"Original execution\")\n",
    "\n",
    "def executeReplacement1():\n",
    "    print(\"Strategy 1\")\n",
    "\n",
    "def executeReplacement2():\n",
    "    print(\"Strategy 2\")\n",
    "\n",
    "if __name__ == \"__main__\":\n",
    "    strat0 = StrategyExample()\n",
    "    strat1 = StrategyExample(executeReplacement1)\n",
    "    strat2 = StrategyExample(executeReplacement2)\n",
    "\n",
    "    strat0.execute()\n",
    "    strat1.execute()\n",
    "    strat2.execute()\n"
   ]
  },
  {
   "cell_type": "code",
   "execution_count": null,
   "metadata": {
    "collapsed": true
   },
   "outputs": [],
   "source": []
  }
 ],
 "metadata": {
  "kernelspec": {
   "display_name": "pgmpy35x1",
   "language": "python",
   "name": "pgmpy35x1"
  },
  "language_info": {
   "codemirror_mode": {
    "name": "ipython",
    "version": 3
   },
   "file_extension": ".py",
   "mimetype": "text/x-python",
   "name": "python",
   "nbconvert_exporter": "python",
   "pygments_lexer": "ipython3",
   "version": "3.5.2"
  }
 },
 "nbformat": 4,
 "nbformat_minor": 2
}
