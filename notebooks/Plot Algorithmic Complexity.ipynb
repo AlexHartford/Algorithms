{
 "cells": [
  {
   "cell_type": "markdown",
   "metadata": {},
   "source": [
    "### Plot Algorithmic Complexity\n",
    "\n",
    "Jay Urbain, PhD\n",
    "3/8/2017"
   ]
  },
  {
   "cell_type": "code",
   "execution_count": 12,
   "metadata": {
    "collapsed": true
   },
   "outputs": [],
   "source": [
    "from matplotlib import pyplot\n",
    "import numpy as np\n",
    "import timeit\n",
    "from functools import partial\n",
    "import random\n",
    "\n",
    "%matplotlib inline  \n",
    "\n",
    "def fconst(N):\n",
    "    \"\"\"\n",
    "    O(1) function\n",
    "    \"\"\"\n",
    "    x = 1\n",
    "\n",
    "def flinear(N):\n",
    "    \"\"\"\n",
    "    O(n) function\n",
    "    \"\"\"\n",
    "    x = [i for i in range(N)]\n",
    "\n",
    "def fsquare(N):\n",
    "    \"\"\"\n",
    "    O(n^2) function\n",
    "    \"\"\"\n",
    "    for i in range(N):\n",
    "        for j in range(N):\n",
    "            x = i*j\n",
    "\n",
    "def fshuffle(N):\n",
    "    # O(N)\n",
    "    random.shuffle(list(range(N)))\n",
    "\n",
    "def fsort(N):\n",
    "    x = list(range(N))\n",
    "    random.shuffle(x)\n",
    "    x.sort()\n",
    "\n",
    "def plotTC(fn, nMin, nMax, nInc, nTests):\n",
    "    \"\"\"\n",
    "    Run timer and plot time complexity\n",
    "    \"\"\"\n",
    "    x = []\n",
    "    y = []\n",
    "    for i in range(nMin, nMax, nInc):\n",
    "        N = i\n",
    "        testNTimer = timeit.Timer(partial(fn, N))\n",
    "        t = testNTimer.timeit(number=nTests)\n",
    "        x.append(i)\n",
    "        y.append(t)\n",
    "    p1 = pyplot.plot(x, y, 'o')\n",
    "    #pyplot.legend([p1,], [fn.__name__, ])\n",
    "\n",
    "# main() function\n",
    "def main():\n",
    "    print('Analyzing Algorithms...')\n",
    "\n",
    "    #plotTC(fconst, 10, 1000, 10, 10)\n",
    "    plotTC(flinear, 10, 100000, 10, 10)\n",
    "    #plotTC(fsquare, 10, 1000, 10, 10)\n",
    "    #plotTC(fshuffle, 10, 1000, 1000, 10)\n",
    "    #plotTC(fsort, 10, 1000, 10, 10)\n",
    "\n",
    "    # enable this in case you want to set y axis limits\n",
    "    #pyplot.ylim((-0.1, 0.5))\n",
    "    \n",
    "    # show plot\n",
    "    pyplot.show()"
   ]
  },
  {
   "cell_type": "code",
   "execution_count": null,
   "metadata": {
    "collapsed": false
   },
   "outputs": [
    {
     "name": "stdout",
     "output_type": "stream",
     "text": [
      "Analyzing Algorithms...\n"
     ]
    }
   ],
   "source": [
    "main()"
   ]
  },
  {
   "cell_type": "code",
   "execution_count": null,
   "metadata": {
    "collapsed": true
   },
   "outputs": [],
   "source": []
  }
 ],
 "metadata": {
  "kernelspec": {
   "display_name": "pgmpy35x1",
   "language": "python",
   "name": "pgmpy35x1"
  },
  "language_info": {
   "codemirror_mode": {
    "name": "ipython",
    "version": 3
   },
   "file_extension": ".py",
   "mimetype": "text/x-python",
   "name": "python",
   "nbconvert_exporter": "python",
   "pygments_lexer": "ipython3",
   "version": "3.5.2"
  }
 },
 "nbformat": 4,
 "nbformat_minor": 2
}
